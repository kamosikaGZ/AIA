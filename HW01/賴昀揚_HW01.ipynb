{
 "cells": [
  {
   "cell_type": "markdown",
   "metadata": {},
   "source": [
    "程式的一開始先 import 所有會用到的 python 套件\n",
    "包含了 pandas、numpy 等用來處理、儲存資料的格式\n",
    "以及 scikit learn 提供的多個 mechine learning 的 model"
   ]
  },
  {
   "cell_type": "code",
   "execution_count": 1,
   "metadata": {
    "collapsed": true
   },
   "outputs": [],
   "source": [
    "# from sklearn.datasets import load_iris\n",
    "from sklearn import preprocessing\n",
    "import pandas as pd\n",
    "import numpy as np\n",
    "np.set_printoptions(threshold = 1e6)\n",
    "\n",
    "from sklearn import metrics\n",
    "from sklearn.neighbors import KNeighborsClassifier\n",
    "from sklearn.ensemble import RandomForestClassifier\n",
    "from sklearn.naive_bayes import GaussianNB\n",
    "from sklearn.svm import SVC"
   ]
  },
  {
   "cell_type": "markdown",
   "metadata": {},
   "source": [
    "讀取這次作業用到的 training data 以及 testing data"
   ]
  },
  {
   "cell_type": "code",
   "execution_count": 2,
   "metadata": {
    "collapsed": false
   },
   "outputs": [
    {
     "name": "stdout",
     "output_type": "stream",
     "text": [
      "Raw data:\n",
      "      id  花萼長度  花萼寬度  花瓣長度  花瓣寬度              屬種  type\n",
      "119  120   5.9   3.0   5.1   1.8  Iris-virginica     3\n",
      "120  121   NaN   3.0   4.9   1.2   Iris-new_type     4\n",
      "121  122   5.2   NaN   5.1   1.8   Iris-new_type     4\n",
      "122  123   6.1   3.2   5.1   1.8   Iris-new_type     4\n",
      "\n"
     ]
    },
    {
     "data": {
      "text/html": [
       "<div>\n",
       "<table border=\"1\" class=\"dataframe\">\n",
       "  <thead>\n",
       "    <tr style=\"text-align: right;\">\n",
       "      <th></th>\n",
       "      <th>id</th>\n",
       "      <th>花萼長度</th>\n",
       "      <th>花萼寬度</th>\n",
       "      <th>花瓣長度</th>\n",
       "      <th>花瓣寬度</th>\n",
       "      <th>屬種</th>\n",
       "      <th>type</th>\n",
       "    </tr>\n",
       "  </thead>\n",
       "  <tbody>\n",
       "    <tr>\n",
       "      <th>119</th>\n",
       "      <td>120</td>\n",
       "      <td>5.9</td>\n",
       "      <td>3.0</td>\n",
       "      <td>5.1</td>\n",
       "      <td>1.8</td>\n",
       "      <td>Iris-virginica</td>\n",
       "      <td>3</td>\n",
       "    </tr>\n",
       "    <tr>\n",
       "      <th>120</th>\n",
       "      <td>121</td>\n",
       "      <td>NaN</td>\n",
       "      <td>3.0</td>\n",
       "      <td>4.9</td>\n",
       "      <td>1.2</td>\n",
       "      <td>Iris-new_type</td>\n",
       "      <td>4</td>\n",
       "    </tr>\n",
       "    <tr>\n",
       "      <th>121</th>\n",
       "      <td>122</td>\n",
       "      <td>5.2</td>\n",
       "      <td>NaN</td>\n",
       "      <td>5.1</td>\n",
       "      <td>1.8</td>\n",
       "      <td>Iris-new_type</td>\n",
       "      <td>4</td>\n",
       "    </tr>\n",
       "    <tr>\n",
       "      <th>122</th>\n",
       "      <td>123</td>\n",
       "      <td>6.1</td>\n",
       "      <td>3.2</td>\n",
       "      <td>5.1</td>\n",
       "      <td>1.8</td>\n",
       "      <td>Iris-new_type</td>\n",
       "      <td>4</td>\n",
       "    </tr>\n",
       "  </tbody>\n",
       "</table>\n",
       "</div>"
      ],
      "text/plain": [
       "      id  花萼長度  花萼寬度  花瓣長度  花瓣寬度              屬種  type\n",
       "119  120   5.9   3.0   5.1   1.8  Iris-virginica     3\n",
       "120  121   NaN   3.0   4.9   1.2   Iris-new_type     4\n",
       "121  122   5.2   NaN   5.1   1.8   Iris-new_type     4\n",
       "122  123   6.1   3.2   5.1   1.8   Iris-new_type     4"
      ]
     },
     "execution_count": 2,
     "metadata": {},
     "output_type": "execute_result"
    }
   ],
   "source": [
    "################################################################\n",
    "## load dataset\n",
    "df_iris_train = pd.read_csv(\"train.csv\")\n",
    "df_iris_test = pd.read_csv(\"test.csv\")\n",
    "df_iris_submission = pd.read_csv(\"submission.csv\")\n",
    "print(\"Raw data:\")\n",
    "print(df_iris_train[119:123])\n",
    "print()\n",
    "\n",
    "df_iris_train[119:123]"
   ]
  },
  {
   "cell_type": "markdown",
   "metadata": {},
   "source": [
    "讀取完data後，要先對data做前處理，首先先對每個類別的文字，利用pandas的功能做 one hot encoding 轉換成數字"
   ]
  },
  {
   "cell_type": "code",
   "execution_count": 3,
   "metadata": {
    "collapsed": false
   },
   "outputs": [
    {
     "name": "stdout",
     "output_type": "stream",
     "text": [
      "###############################\n",
      "Preprocessing\n",
      "###############################\n",
      "Data after encoding:\n",
      "      id  花萼長度  花萼寬度  花瓣長度  花瓣寬度  屬種  type\n",
      "119  120   5.9   3.0   5.1   1.8   3     3\n",
      "120  121   NaN   3.0   4.9   1.2   4     4\n",
      "121  122   5.2   NaN   5.1   1.8   4     4\n",
      "122  123   6.1   3.2   5.1   1.8   4     4\n",
      "\n"
     ]
    },
    {
     "data": {
      "text/html": [
       "<div>\n",
       "<table border=\"1\" class=\"dataframe\">\n",
       "  <thead>\n",
       "    <tr style=\"text-align: right;\">\n",
       "      <th></th>\n",
       "      <th>id</th>\n",
       "      <th>花萼長度</th>\n",
       "      <th>花萼寬度</th>\n",
       "      <th>花瓣長度</th>\n",
       "      <th>花瓣寬度</th>\n",
       "      <th>屬種</th>\n",
       "      <th>type</th>\n",
       "    </tr>\n",
       "  </thead>\n",
       "  <tbody>\n",
       "    <tr>\n",
       "      <th>119</th>\n",
       "      <td>120</td>\n",
       "      <td>5.9</td>\n",
       "      <td>3.0</td>\n",
       "      <td>5.1</td>\n",
       "      <td>1.8</td>\n",
       "      <td>3</td>\n",
       "      <td>3</td>\n",
       "    </tr>\n",
       "    <tr>\n",
       "      <th>120</th>\n",
       "      <td>121</td>\n",
       "      <td>NaN</td>\n",
       "      <td>3.0</td>\n",
       "      <td>4.9</td>\n",
       "      <td>1.2</td>\n",
       "      <td>4</td>\n",
       "      <td>4</td>\n",
       "    </tr>\n",
       "    <tr>\n",
       "      <th>121</th>\n",
       "      <td>122</td>\n",
       "      <td>5.2</td>\n",
       "      <td>NaN</td>\n",
       "      <td>5.1</td>\n",
       "      <td>1.8</td>\n",
       "      <td>4</td>\n",
       "      <td>4</td>\n",
       "    </tr>\n",
       "    <tr>\n",
       "      <th>122</th>\n",
       "      <td>123</td>\n",
       "      <td>6.1</td>\n",
       "      <td>3.2</td>\n",
       "      <td>5.1</td>\n",
       "      <td>1.8</td>\n",
       "      <td>4</td>\n",
       "      <td>4</td>\n",
       "    </tr>\n",
       "  </tbody>\n",
       "</table>\n",
       "</div>"
      ],
      "text/plain": [
       "      id  花萼長度  花萼寬度  花瓣長度  花瓣寬度  屬種  type\n",
       "119  120   5.9   3.0   5.1   1.8   3     3\n",
       "120  121   NaN   3.0   4.9   1.2   4     4\n",
       "121  122   5.2   NaN   5.1   1.8   4     4\n",
       "122  123   6.1   3.2   5.1   1.8   4     4"
      ]
     },
     "execution_count": 3,
     "metadata": {},
     "output_type": "execute_result"
    }
   ],
   "source": [
    "################################################################\n",
    "print(\"###############################\")\n",
    "print(\"Preprocessing\")\n",
    "print(\"###############################\")\n",
    "# 用 pandas 對'屬種'的 column 文字做 encoding\n",
    "df_iris_train_encode = df_iris_train.copy()\n",
    "df_iris_train_encode['屬種'] = df_iris_train_encode['屬種'].replace({'Iris-setosa':1,'Iris-versicolor':2,'Iris-virginica':3,'Iris-new_type':4})   #轉換\n",
    "print(\"Data after encoding:\")\n",
    "print(df_iris_train_encode[119:123])\n",
    "print()\n",
    "\n",
    "df_iris_train_encode[119:123]"
   ]
  },
  {
   "cell_type": "markdown",
   "metadata": {},
   "source": [
    "接著要做填補 missing value 的動作\n",
    "首先要先選擇那些columns是data中的feature，然後宣告兩個空的dictionary來記錄data中每個feature有有效值得個數以及計算欲填入的數值"
   ]
  },
  {
   "cell_type": "code",
   "execution_count": 4,
   "metadata": {
    "collapsed": false
   },
   "outputs": [],
   "source": [
    "################################################################\n",
    "## 填 missing value\n",
    "featureArray = ['花萼長度','花萼寬度','花瓣長度','花瓣寬度']\n",
    "totalAvailableFeatureCount = dict()\n",
    "fillMissingValueFeature = dict()\n",
    "for feature in featureArray:\n",
    "    totalAvailableFeatureCount[feature]=0"
   ]
  },
  {
   "cell_type": "markdown",
   "metadata": {},
   "source": [
    "利用for迴圈去對每個feature做計算，首先要先統計一個feature中具有有效數值並非Nan的data有幾筆\n",
    "而要填補的數值，我選擇用此feature的平均數來做填補，將此feature的有效數值做總和後，再除以有效數值的個數"
   ]
  },
  {
   "cell_type": "code",
   "execution_count": 5,
   "metadata": {
    "collapsed": false
   },
   "outputs": [
    {
     "name": "stdout",
     "output_type": "stream",
     "text": [
      "Available 花萼長度 Count: 122\n",
      "花萼長度 Filled Number: 5.840164\n",
      "Available 花萼寬度 Count: 122\n",
      "花萼寬度 Filled Number: 3.058197\n",
      "Available 花瓣長度 Count: 123\n",
      "花瓣長度 Filled Number: 3.764228\n",
      "Available 花瓣寬度 Count: 123\n",
      "花瓣寬度 Filled Number: 1.204878\n"
     ]
    }
   ],
   "source": [
    "#總data數\n",
    "totalDataCount = len(df_iris_train_encode['id'])\n",
    "#print(\"Total Data Count: %d\"%(totalDataCount))\n",
    "\n",
    "# for 每個 feature\n",
    "for feature in featureArray:\n",
    "    # 統計此feature的有效數值的數量\n",
    "    for i in df_iris_train_encode[feature]:\n",
    "        if not(np.isnan(i)):\n",
    "           totalAvailableFeatureCount[feature] += 1 #if不是Nan，個數+1\n",
    "    #用此feature有效的數值來算平均數                        \n",
    "    fillMissingValueFeature[feature] = np.sum(df_iris_train_encode[feature])/totalAvailableFeatureCount[feature]\n",
    "    print(\"Available %s Count: %d\"%(feature,totalAvailableFeatureCount[feature]))\n",
    "    print(\"%s Filled Number: %f\"%(feature,fillMissingValueFeature[feature]))"
   ]
  },
  {
   "cell_type": "markdown",
   "metadata": {},
   "source": [
    "計算完填補用的數值後，利用pandas的功能將數值填補到data中"
   ]
  },
  {
   "cell_type": "code",
   "execution_count": 6,
   "metadata": {
    "collapsed": false
   },
   "outputs": [
    {
     "name": "stdout",
     "output_type": "stream",
     "text": [
      "Fill in missing value: \n",
      "      id      花萼長度      花萼寬度  花瓣長度  花瓣寬度  屬種  type\n",
      "119  120  5.900000  3.000000   5.1   1.8   3     3\n",
      "120  121  5.840164  3.000000   4.9   1.2   4     4\n",
      "121  122  5.200000  3.058197   5.1   1.8   4     4\n",
      "122  123  6.100000  3.200000   5.1   1.8   4     4\n",
      "\n"
     ]
    },
    {
     "data": {
      "text/html": [
       "<div>\n",
       "<table border=\"1\" class=\"dataframe\">\n",
       "  <thead>\n",
       "    <tr style=\"text-align: right;\">\n",
       "      <th></th>\n",
       "      <th>id</th>\n",
       "      <th>花萼長度</th>\n",
       "      <th>花萼寬度</th>\n",
       "      <th>花瓣長度</th>\n",
       "      <th>花瓣寬度</th>\n",
       "      <th>屬種</th>\n",
       "      <th>type</th>\n",
       "    </tr>\n",
       "  </thead>\n",
       "  <tbody>\n",
       "    <tr>\n",
       "      <th>119</th>\n",
       "      <td>120</td>\n",
       "      <td>5.900000</td>\n",
       "      <td>3.000000</td>\n",
       "      <td>5.1</td>\n",
       "      <td>1.8</td>\n",
       "      <td>3</td>\n",
       "      <td>3</td>\n",
       "    </tr>\n",
       "    <tr>\n",
       "      <th>120</th>\n",
       "      <td>121</td>\n",
       "      <td>5.840164</td>\n",
       "      <td>3.000000</td>\n",
       "      <td>4.9</td>\n",
       "      <td>1.2</td>\n",
       "      <td>4</td>\n",
       "      <td>4</td>\n",
       "    </tr>\n",
       "    <tr>\n",
       "      <th>121</th>\n",
       "      <td>122</td>\n",
       "      <td>5.200000</td>\n",
       "      <td>3.058197</td>\n",
       "      <td>5.1</td>\n",
       "      <td>1.8</td>\n",
       "      <td>4</td>\n",
       "      <td>4</td>\n",
       "    </tr>\n",
       "    <tr>\n",
       "      <th>122</th>\n",
       "      <td>123</td>\n",
       "      <td>6.100000</td>\n",
       "      <td>3.200000</td>\n",
       "      <td>5.1</td>\n",
       "      <td>1.8</td>\n",
       "      <td>4</td>\n",
       "      <td>4</td>\n",
       "    </tr>\n",
       "  </tbody>\n",
       "</table>\n",
       "</div>"
      ],
      "text/plain": [
       "      id      花萼長度      花萼寬度  花瓣長度  花瓣寬度  屬種  type\n",
       "119  120  5.900000  3.000000   5.1   1.8   3     3\n",
       "120  121  5.840164  3.000000   4.9   1.2   4     4\n",
       "121  122  5.200000  3.058197   5.1   1.8   4     4\n",
       "122  123  6.100000  3.200000   5.1   1.8   4     4"
      ]
     },
     "execution_count": 6,
     "metadata": {},
     "output_type": "execute_result"
    }
   ],
   "source": [
    "# 填入missing value\n",
    "df_iris_train_encode = df_iris_train_encode.fillna({featureArray[0]:fillMissingValueFeature[featureArray[0]],\n",
    "                                                    featureArray[1]:fillMissingValueFeature[featureArray[1]],\n",
    "                                                    featureArray[2]:fillMissingValueFeature[featureArray[2]],\n",
    "                                                    featureArray[3]:fillMissingValueFeature[featureArray[3]]})\n",
    "print(\"Fill in missing value: \")\n",
    "print(df_iris_train_encode[119:123])\n",
    "print()\n",
    "\n",
    "df_iris_train_encode[119:123]"
   ]
  },
  {
   "cell_type": "markdown",
   "metadata": {},
   "source": [
    "前處理的最後要做normalized的動作，利用scikit learn，我們可以對4個feature做normalized"
   ]
  },
  {
   "cell_type": "code",
   "execution_count": 7,
   "metadata": {
    "collapsed": false
   },
   "outputs": [
    {
     "name": "stdout",
     "output_type": "stream",
     "text": [
      "Training data after nomalized: \n",
      "      id      花萼長度          花萼寬度      花瓣長度      花瓣寬度  屬種  type\n",
      "119  120  0.076276 -1.317572e-01  0.774593  0.792069   3     3\n",
      "120  121  0.000000 -1.317572e-01  0.658616 -0.006492   4     4\n",
      "121  122 -0.816047  2.010833e-15  0.774593  0.792069   4     4\n",
      "122  123  0.331225  3.210422e-01  0.774593  0.792069   4     4\n"
     ]
    },
    {
     "data": {
      "text/html": [
       "<div>\n",
       "<table border=\"1\" class=\"dataframe\">\n",
       "  <thead>\n",
       "    <tr style=\"text-align: right;\">\n",
       "      <th></th>\n",
       "      <th>id</th>\n",
       "      <th>花萼長度</th>\n",
       "      <th>花萼寬度</th>\n",
       "      <th>花瓣長度</th>\n",
       "      <th>花瓣寬度</th>\n",
       "      <th>屬種</th>\n",
       "      <th>type</th>\n",
       "    </tr>\n",
       "  </thead>\n",
       "  <tbody>\n",
       "    <tr>\n",
       "      <th>119</th>\n",
       "      <td>120</td>\n",
       "      <td>0.076276</td>\n",
       "      <td>-1.317572e-01</td>\n",
       "      <td>0.774593</td>\n",
       "      <td>0.792069</td>\n",
       "      <td>3</td>\n",
       "      <td>3</td>\n",
       "    </tr>\n",
       "    <tr>\n",
       "      <th>120</th>\n",
       "      <td>121</td>\n",
       "      <td>0.000000</td>\n",
       "      <td>-1.317572e-01</td>\n",
       "      <td>0.658616</td>\n",
       "      <td>-0.006492</td>\n",
       "      <td>4</td>\n",
       "      <td>4</td>\n",
       "    </tr>\n",
       "    <tr>\n",
       "      <th>121</th>\n",
       "      <td>122</td>\n",
       "      <td>-0.816047</td>\n",
       "      <td>2.010833e-15</td>\n",
       "      <td>0.774593</td>\n",
       "      <td>0.792069</td>\n",
       "      <td>4</td>\n",
       "      <td>4</td>\n",
       "    </tr>\n",
       "    <tr>\n",
       "      <th>122</th>\n",
       "      <td>123</td>\n",
       "      <td>0.331225</td>\n",
       "      <td>3.210422e-01</td>\n",
       "      <td>0.774593</td>\n",
       "      <td>0.792069</td>\n",
       "      <td>4</td>\n",
       "      <td>4</td>\n",
       "    </tr>\n",
       "  </tbody>\n",
       "</table>\n",
       "</div>"
      ],
      "text/plain": [
       "      id      花萼長度          花萼寬度      花瓣長度      花瓣寬度  屬種  type\n",
       "119  120  0.076276 -1.317572e-01  0.774593  0.792069   3     3\n",
       "120  121  0.000000 -1.317572e-01  0.658616 -0.006492   4     4\n",
       "121  122 -0.816047  2.010833e-15  0.774593  0.792069   4     4\n",
       "122  123  0.331225  3.210422e-01  0.774593  0.792069   4     4"
      ]
     },
     "execution_count": 7,
     "metadata": {},
     "output_type": "execute_result"
    }
   ],
   "source": [
    "#################################################################\n",
    "## 做 normalized\n",
    "#training dataset\n",
    "df_iris_train_encode_normalized = df_iris_train_encode.copy()\n",
    "# for 每個 feature\n",
    "for feature in featureArray:\n",
    "    # 對此 feature 做 normalized\n",
    "    np_normalized_col = preprocessing.scale(df_iris_train_encode_normalized[feature], axis=0)\n",
    "    df_iris_train_encode_normalized[feature] = np_normalized_col\n",
    "print(\"Training data after nomalized: \")\n",
    "print(df_iris_train_encode_normalized[119:123])\n",
    "\n",
    "df_iris_train_encode_normalized[119:123]"
   ]
  },
  {
   "cell_type": "markdown",
   "metadata": {},
   "source": [
    "對testing data也同樣地做normalized的動作"
   ]
  },
  {
   "cell_type": "code",
   "execution_count": 8,
   "metadata": {
    "collapsed": false
   },
   "outputs": [
    {
     "name": "stdout",
     "output_type": "stream",
     "text": [
      "Testing data after nomalized: \n",
      "    id      花萼長度      花萼寬度      花瓣長度      花瓣寬度\n",
      "26  27 -0.995215 -1.472971  0.344187  0.627332\n",
      "27  28  1.536781 -0.381881  1.317280  0.756236\n",
      "28  29  0.903782 -1.472971  1.046976  0.756236\n",
      "29  30  1.431281  1.527525  1.209158  1.658563\n",
      "\n"
     ]
    },
    {
     "data": {
      "text/html": [
       "<div>\n",
       "<table border=\"1\" class=\"dataframe\">\n",
       "  <thead>\n",
       "    <tr style=\"text-align: right;\">\n",
       "      <th></th>\n",
       "      <th>id</th>\n",
       "      <th>花萼長度</th>\n",
       "      <th>花萼寬度</th>\n",
       "      <th>花瓣長度</th>\n",
       "      <th>花瓣寬度</th>\n",
       "    </tr>\n",
       "  </thead>\n",
       "  <tbody>\n",
       "    <tr>\n",
       "      <th>26</th>\n",
       "      <td>27</td>\n",
       "      <td>-0.995215</td>\n",
       "      <td>-1.472971</td>\n",
       "      <td>0.344187</td>\n",
       "      <td>0.627332</td>\n",
       "    </tr>\n",
       "    <tr>\n",
       "      <th>27</th>\n",
       "      <td>28</td>\n",
       "      <td>1.536781</td>\n",
       "      <td>-0.381881</td>\n",
       "      <td>1.317280</td>\n",
       "      <td>0.756236</td>\n",
       "    </tr>\n",
       "    <tr>\n",
       "      <th>28</th>\n",
       "      <td>29</td>\n",
       "      <td>0.903782</td>\n",
       "      <td>-1.472971</td>\n",
       "      <td>1.046976</td>\n",
       "      <td>0.756236</td>\n",
       "    </tr>\n",
       "    <tr>\n",
       "      <th>29</th>\n",
       "      <td>30</td>\n",
       "      <td>1.431281</td>\n",
       "      <td>1.527525</td>\n",
       "      <td>1.209158</td>\n",
       "      <td>1.658563</td>\n",
       "    </tr>\n",
       "  </tbody>\n",
       "</table>\n",
       "</div>"
      ],
      "text/plain": [
       "    id      花萼長度      花萼寬度      花瓣長度      花瓣寬度\n",
       "26  27 -0.995215 -1.472971  0.344187  0.627332\n",
       "27  28  1.536781 -0.381881  1.317280  0.756236\n",
       "28  29  0.903782 -1.472971  1.046976  0.756236\n",
       "29  30  1.431281  1.527525  1.209158  1.658563"
      ]
     },
     "execution_count": 8,
     "metadata": {},
     "output_type": "execute_result"
    }
   ],
   "source": [
    "df_iris_test_normalized = df_iris_test.copy()\n",
    "for feature in featureArray:\n",
    "    # 對此 feature 做 normalized\n",
    "    np_normalized_col = preprocessing.scale(df_iris_test_normalized[feature], axis=0)\n",
    "    df_iris_test_normalized[feature] = np_normalized_col\n",
    "print(\"Testing data after nomalized: \")\n",
    "print(df_iris_test_normalized[len(df_iris_test_normalized)-4:len(df_iris_test_normalized)])\n",
    "print()\n",
    "\n",
    "df_iris_test_normalized[len(df_iris_test_normalized)-4:len(df_iris_test_normalized)]"
   ]
  },
  {
   "cell_type": "markdown",
   "metadata": {},
   "source": [
    "再來要開始進行model的training以及predicting\n",
    "要先將前處理過後的training data，分成model的input部分以及output部分\n",
    "testing data的部分，一般而言只會有input的部分，但此次作業有堤共testing data的正確結果，所以先用testing_output_GroundTurth的陣列記錄起來\n",
    "\n",
    "後面我使用了scikit learn 提供的 model來逞生最後的結果，我使用的model有 KNN、random forset、貝氏分類器以及 SVM"
   ]
  },
  {
   "cell_type": "code",
   "execution_count": 9,
   "metadata": {
    "collapsed": false
   },
   "outputs": [
    {
     "name": "stdout",
     "output_type": "stream",
     "text": [
      "###############################\n",
      "Training and Predicting\n",
      "###############################\n",
      "Ground truth:\n",
      "[1 1 1 1 1 1 1 1 1 1 2 2 2 2 2 2 2 2 2 2 3 3 3 3 3 3 3 3 3 3]\n",
      "\n"
     ]
    }
   ],
   "source": [
    "print(\"###############################\")\n",
    "print(\"Training and Predicting\")\n",
    "print(\"###############################\")\n",
    "## 把training dataset分成 input(x), output(y)\n",
    "#training dataset\n",
    "training_input = df_iris_train_encode_normalized[featureArray]\n",
    "training_output = df_iris_train_encode_normalized['type']\n",
    "#print(training_input[119:123])\n",
    "#print(training_output[119:123])\n",
    "\n",
    "#testing dataset\n",
    "testing_input = df_iris_test_normalized[featureArray]\n",
    "testing_output_GroundTurth = np.asarray([1,1,1,1,1,1,1,1,1,1,2,2,2,2,2,2,2,2,2,2,3,3,3,3,3,3,3,3,3,3])\n",
    "print(\"Ground truth:\")\n",
    "print(testing_output_GroundTurth)\n",
    "print()"
   ]
  },
  {
   "cell_type": "markdown",
   "metadata": {},
   "source": [
    "KNN 的結果"
   ]
  },
  {
   "cell_type": "code",
   "execution_count": 10,
   "metadata": {
    "collapsed": false
   },
   "outputs": [
    {
     "name": "stdout",
     "output_type": "stream",
     "text": [
      "KNN Results: \n",
      "[1 1 1 1 1 1 1 1 1 1 2 2 2 2 2 2 2 2 2 2 3 3 3 3 3 3 2 3 3 3]\n",
      "             precision    recall  f1-score   support\n",
      "\n",
      "          1       1.00      1.00      1.00        10\n",
      "          2       0.91      1.00      0.95        10\n",
      "          3       1.00      0.90      0.95        10\n",
      "\n",
      "avg / total       0.97      0.97      0.97        30\n",
      "KNN confusion matrix: \n",
      "[[10  0  0]\n",
      " [ 0 10  0]\n",
      " [ 0  1  9]]\n",
      "\n"
     ]
    }
   ],
   "source": [
    "## KNN model\n",
    "knn = KNeighborsClassifier(n_neighbors=3, weights='uniform')\n",
    "knn.fit(training_input, training_output)\n",
    "#predict\n",
    "testing_output_KNN = knn.predict(testing_input)\n",
    "print(\"KNN Results: \")\n",
    "print(testing_output_KNN)\n",
    "print(metrics.classification_report(testing_output_GroundTurth, testing_output_KNN), end='')\n",
    "print(\"KNN confusion matrix: \")\n",
    "print(metrics.confusion_matrix(testing_output_GroundTurth, testing_output_KNN))\n",
    "print()"
   ]
  },
  {
   "cell_type": "markdown",
   "metadata": {},
   "source": [
    "Random forest 的結果"
   ]
  },
  {
   "cell_type": "code",
   "execution_count": 11,
   "metadata": {
    "collapsed": false
   },
   "outputs": [
    {
     "name": "stdout",
     "output_type": "stream",
     "text": [
      "Random Forest Results: \n",
      "[1 1 1 1 1 1 1 1 1 1 2 2 2 2 2 2 2 2 2 2 3 3 3 3 3 3 2 3 3 3]\n",
      "             precision    recall  f1-score   support\n",
      "\n",
      "          1       1.00      1.00      1.00        10\n",
      "          2       0.91      1.00      0.95        10\n",
      "          3       1.00      0.90      0.95        10\n",
      "\n",
      "avg / total       0.97      0.97      0.97        30\n",
      "Random Forest confusion matrix: \n",
      "[[10  0  0]\n",
      " [ 0 10  0]\n",
      " [ 0  1  9]]\n",
      "\n"
     ]
    }
   ],
   "source": [
    "## Random forest\n",
    "rfc = RandomForestClassifier(n_estimators=500, criterion='gini', max_features='auto', oob_score=True)\n",
    "rfc.fit(training_input, training_output)\n",
    "#predict\n",
    "testing_output_RF = rfc.predict(testing_input)\n",
    "print(\"Random Forest Results: \")\n",
    "print(testing_output_RF)\n",
    "print(metrics.classification_report(testing_output_GroundTurth, testing_output_RF), end='')\n",
    "print(\"Random Forest confusion matrix: \")\n",
    "print(metrics.confusion_matrix(testing_output_GroundTurth, testing_output_RF))\n",
    "print()"
   ]
  },
  {
   "cell_type": "markdown",
   "metadata": {},
   "source": [
    "貝氏分類器的結果"
   ]
  },
  {
   "cell_type": "code",
   "execution_count": 12,
   "metadata": {
    "collapsed": false
   },
   "outputs": [
    {
     "name": "stdout",
     "output_type": "stream",
     "text": [
      "Bayes Results: \n",
      "[1 1 1 1 1 1 1 1 1 1 2 2 2 2 2 2 2 2 2 2 3 3 3 3 3 3 2 3 3 3]\n",
      "             precision    recall  f1-score   support\n",
      "\n",
      "          1       1.00      1.00      1.00        10\n",
      "          2       0.91      1.00      0.95        10\n",
      "          3       1.00      0.90      0.95        10\n",
      "\n",
      "avg / total       0.97      0.97      0.97        30\n",
      "Bayes confusion matrix: \n",
      "[[10  0  0]\n",
      " [ 0 10  0]\n",
      " [ 0  1  9]]\n",
      "\n"
     ]
    }
   ],
   "source": [
    "## 貝氏分類器\n",
    "bc = GaussianNB()\n",
    "bc.fit(training_input, training_output)\n",
    "#predict\n",
    "testing_output_BC = rfc.predict(testing_input)\n",
    "print(\"Bayes Results: \")\n",
    "print(testing_output_BC)\n",
    "print(metrics.classification_report(testing_output_GroundTurth, testing_output_BC), end='')\n",
    "print(\"Bayes confusion matrix: \")\n",
    "print(metrics.confusion_matrix(testing_output_GroundTurth, testing_output_BC))\n",
    "print()"
   ]
  },
  {
   "cell_type": "markdown",
   "metadata": {},
   "source": [
    "SVM 的結果"
   ]
  },
  {
   "cell_type": "code",
   "execution_count": 13,
   "metadata": {
    "collapsed": false
   },
   "outputs": [
    {
     "name": "stdout",
     "output_type": "stream",
     "text": [
      "SVM Results: \n",
      "[1 1 1 1 1 1 1 1 1 1 2 2 2 2 2 2 2 2 2 2 3 3 3 3 3 3 3 3 3 3]\n",
      "             precision    recall  f1-score   support\n",
      "\n",
      "          1       1.00      1.00      1.00        10\n",
      "          2       1.00      1.00      1.00        10\n",
      "          3       1.00      1.00      1.00        10\n",
      "\n",
      "avg / total       1.00      1.00      1.00        30\n",
      "SVM confusion matrix: \n",
      "[[10  0  0]\n",
      " [ 0 10  0]\n",
      " [ 0  0 10]]\n",
      "\n"
     ]
    }
   ],
   "source": [
    "## SVM model\n",
    "svc = SVC(C=10.0, kernel=\"rbf\", probability=True)\n",
    "svc.fit(training_input, training_output)\n",
    "#predict\n",
    "testing_output_SVM = svc.predict(testing_input)\n",
    "print(\"SVM Results: \")\n",
    "print(testing_output_SVM)\n",
    "print(metrics.classification_report(testing_output_GroundTurth, testing_output_SVM), end='')\n",
    "print(\"SVM confusion matrix: \")\n",
    "print(metrics.confusion_matrix(testing_output_GroundTurth, testing_output_SVM))\n",
    "print()"
   ]
  },
  {
   "cell_type": "markdown",
   "metadata": {},
   "source": [
    "最後產生Kaggle所需的submission.csv檔案"
   ]
  },
  {
   "cell_type": "code",
   "execution_count": 14,
   "metadata": {
    "collapsed": false
   },
   "outputs": [
    {
     "name": "stdout",
     "output_type": "stream",
     "text": [
      "Submission:\n"
     ]
    },
    {
     "data": {
      "text/html": [
       "<div>\n",
       "<table border=\"1\" class=\"dataframe\">\n",
       "  <thead>\n",
       "    <tr style=\"text-align: right;\">\n",
       "      <th></th>\n",
       "      <th>id</th>\n",
       "      <th>type</th>\n",
       "    </tr>\n",
       "  </thead>\n",
       "  <tbody>\n",
       "    <tr>\n",
       "      <th>0</th>\n",
       "      <td>1</td>\n",
       "      <td>1</td>\n",
       "    </tr>\n",
       "    <tr>\n",
       "      <th>1</th>\n",
       "      <td>2</td>\n",
       "      <td>1</td>\n",
       "    </tr>\n",
       "    <tr>\n",
       "      <th>2</th>\n",
       "      <td>3</td>\n",
       "      <td>1</td>\n",
       "    </tr>\n",
       "    <tr>\n",
       "      <th>3</th>\n",
       "      <td>4</td>\n",
       "      <td>1</td>\n",
       "    </tr>\n",
       "    <tr>\n",
       "      <th>4</th>\n",
       "      <td>5</td>\n",
       "      <td>1</td>\n",
       "    </tr>\n",
       "    <tr>\n",
       "      <th>5</th>\n",
       "      <td>6</td>\n",
       "      <td>1</td>\n",
       "    </tr>\n",
       "    <tr>\n",
       "      <th>6</th>\n",
       "      <td>7</td>\n",
       "      <td>1</td>\n",
       "    </tr>\n",
       "    <tr>\n",
       "      <th>7</th>\n",
       "      <td>8</td>\n",
       "      <td>1</td>\n",
       "    </tr>\n",
       "    <tr>\n",
       "      <th>8</th>\n",
       "      <td>9</td>\n",
       "      <td>1</td>\n",
       "    </tr>\n",
       "    <tr>\n",
       "      <th>9</th>\n",
       "      <td>10</td>\n",
       "      <td>1</td>\n",
       "    </tr>\n",
       "    <tr>\n",
       "      <th>10</th>\n",
       "      <td>11</td>\n",
       "      <td>2</td>\n",
       "    </tr>\n",
       "    <tr>\n",
       "      <th>11</th>\n",
       "      <td>12</td>\n",
       "      <td>2</td>\n",
       "    </tr>\n",
       "    <tr>\n",
       "      <th>12</th>\n",
       "      <td>13</td>\n",
       "      <td>2</td>\n",
       "    </tr>\n",
       "    <tr>\n",
       "      <th>13</th>\n",
       "      <td>14</td>\n",
       "      <td>2</td>\n",
       "    </tr>\n",
       "    <tr>\n",
       "      <th>14</th>\n",
       "      <td>15</td>\n",
       "      <td>2</td>\n",
       "    </tr>\n",
       "    <tr>\n",
       "      <th>15</th>\n",
       "      <td>16</td>\n",
       "      <td>2</td>\n",
       "    </tr>\n",
       "    <tr>\n",
       "      <th>16</th>\n",
       "      <td>17</td>\n",
       "      <td>2</td>\n",
       "    </tr>\n",
       "    <tr>\n",
       "      <th>17</th>\n",
       "      <td>18</td>\n",
       "      <td>2</td>\n",
       "    </tr>\n",
       "    <tr>\n",
       "      <th>18</th>\n",
       "      <td>19</td>\n",
       "      <td>2</td>\n",
       "    </tr>\n",
       "    <tr>\n",
       "      <th>19</th>\n",
       "      <td>20</td>\n",
       "      <td>2</td>\n",
       "    </tr>\n",
       "    <tr>\n",
       "      <th>20</th>\n",
       "      <td>21</td>\n",
       "      <td>3</td>\n",
       "    </tr>\n",
       "    <tr>\n",
       "      <th>21</th>\n",
       "      <td>22</td>\n",
       "      <td>3</td>\n",
       "    </tr>\n",
       "    <tr>\n",
       "      <th>22</th>\n",
       "      <td>23</td>\n",
       "      <td>3</td>\n",
       "    </tr>\n",
       "    <tr>\n",
       "      <th>23</th>\n",
       "      <td>24</td>\n",
       "      <td>3</td>\n",
       "    </tr>\n",
       "    <tr>\n",
       "      <th>24</th>\n",
       "      <td>25</td>\n",
       "      <td>3</td>\n",
       "    </tr>\n",
       "    <tr>\n",
       "      <th>25</th>\n",
       "      <td>26</td>\n",
       "      <td>3</td>\n",
       "    </tr>\n",
       "    <tr>\n",
       "      <th>26</th>\n",
       "      <td>27</td>\n",
       "      <td>3</td>\n",
       "    </tr>\n",
       "    <tr>\n",
       "      <th>27</th>\n",
       "      <td>28</td>\n",
       "      <td>3</td>\n",
       "    </tr>\n",
       "    <tr>\n",
       "      <th>28</th>\n",
       "      <td>29</td>\n",
       "      <td>3</td>\n",
       "    </tr>\n",
       "    <tr>\n",
       "      <th>29</th>\n",
       "      <td>30</td>\n",
       "      <td>3</td>\n",
       "    </tr>\n",
       "  </tbody>\n",
       "</table>\n",
       "</div>"
      ],
      "text/plain": [
       "    id  type\n",
       "0    1     1\n",
       "1    2     1\n",
       "2    3     1\n",
       "3    4     1\n",
       "4    5     1\n",
       "5    6     1\n",
       "6    7     1\n",
       "7    8     1\n",
       "8    9     1\n",
       "9   10     1\n",
       "10  11     2\n",
       "11  12     2\n",
       "12  13     2\n",
       "13  14     2\n",
       "14  15     2\n",
       "15  16     2\n",
       "16  17     2\n",
       "17  18     2\n",
       "18  19     2\n",
       "19  20     2\n",
       "20  21     3\n",
       "21  22     3\n",
       "22  23     3\n",
       "23  24     3\n",
       "24  25     3\n",
       "25  26     3\n",
       "26  27     3\n",
       "27  28     3\n",
       "28  29     3\n",
       "29  30     3"
      ]
     },
     "execution_count": 14,
     "metadata": {},
     "output_type": "execute_result"
    }
   ],
   "source": [
    "## 產生 submission檔\n",
    "df_submission = pd.DataFrame({ 'id': df_iris_submission.id, 'type': testing_output_SVM })  #SVM結果\n",
    "df_submission.to_csv(\"submission.csv\", index=False)\n",
    "\n",
    "submission = pd.read_csv('submission.csv', encoding = \"utf-8\", dtype = {'type': np.int32})\n",
    "print(\"Submission:\")\n",
    "#print(submission)\n",
    "\n",
    "submission"
   ]
  }
 ],
 "metadata": {
  "kernelspec": {
   "display_name": "Python 3",
   "language": "python",
   "name": "python3"
  },
  "language_info": {
   "codemirror_mode": {
    "name": "ipython",
    "version": 3
   },
   "file_extension": ".py",
   "mimetype": "text/x-python",
   "name": "python",
   "nbconvert_exporter": "python",
   "pygments_lexer": "ipython3",
   "version": "3.6.0"
  }
 },
 "nbformat": 4,
 "nbformat_minor": 2
}
